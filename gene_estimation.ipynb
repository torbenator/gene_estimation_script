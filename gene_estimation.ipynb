{
 "cells": [
  {
   "cell_type": "code",
   "execution_count": 1,
   "metadata": {
    "collapsed": false
   },
   "outputs": [
    {
     "name": "stdout",
     "output_type": "stream",
     "text": [
      "Populating the interactive namespace from numpy and matplotlib\n"
     ]
    }
   ],
   "source": [
    "%config InlineBackend.figure_format = 'retina'\n",
    "%pylab inline\n",
    "from nsaba.nsaba import nsaba\n",
    "from collections import defaultdict\n",
    "import numpy as np\n",
    "import pandas as pd\n",
    "import scipy.io\n",
    "aba_path = '/Users/Torben/Documents/ABI analysis/'\n",
    "import collections\n",
    "from numpy import genfromtxt\n",
    "import csv\n",
    "from scipy.interpolate import UnivariateSpline"
   ]
  },
  {
   "cell_type": "code",
   "execution_count": null,
   "metadata": {
    "collapsed": false,
    "scrolled": false
   },
   "outputs": [],
   "source": [
    "#estimates gene expression in 5 radians\n",
    "rad=4\n",
    "\n",
    "donor_nums = [9861,10021,12876,14380,15496,15697]\n",
    "dat1 = scipy.io.loadmat('/Users/Torben/Documents/richard_xyz/subj_coor.mat')\n",
    "dat2 = scipy.io.loadmat('/Users/Torben/Documents/richard_xyz/subj_coorSNAP.mat')\n",
    "genes2 = [2890,2891,2554,2561,2567]\n",
    "#glur1,glur2,gaba1,gaba2,gaba3\n",
    "\n",
    "for ind in xrange(6):\n",
    "    path = '/Users/Torben/Documents/richard_xyz/subIndLoc.mat'\n",
    "    ns_path = \"/Users/Torben/Documents/ABI analysis/current_data_new/\"\n",
    "    aba_path = '/Users/Torben/Documents/ABI analysis/normalized_microarray_donor'+str(donor_nums[ind])+'/'\n",
    "    nsaba.Nsaba.ns_load(ns_path)\n",
    "    nsaba.Nsaba.aba_load(aba_path)\n",
    "    dat = scipy.io.loadmat(path)\n",
    "    \n",
    "    N = nsaba.Nsaba()\n",
    "    rnn_args = dict();\n",
    "    rnn_args['radius']=rad\n",
    "    rnn_args['weights']=N._gaussian_weight_function\n",
    "\n",
    "    N.estimate_aba_ge(genes2,coords=dat1['COOR'][:,0:1448].T,rnn_args=rnn_args,z_score=True)\n",
    "    output = np.zeros((1448,len(genes2)))\n",
    "    \n",
    "    i=0\n",
    "    for g in genes2:\n",
    "        output[:,i] = N.ge[g]['mean']['GE'];\n",
    "        i+=1\n",
    "    np.savetxt('/Users/Torben/Documents/richard_xyz/ei_genes_donor'+str(donor_nums[ind])+'_r'+str(rad+1)+'_coords1_zscored_gaussian_estimation.csv',output)\n",
    "    \n",
    "    \n",
    "    N.estimate_aba_ge(genes2,coords=dat2['COOR'].T,rnn_args=rnn_args,z_score=True)\n",
    "    output = np.zeros((dat1['COOR'].shape[1],len(genes2)))    \n",
    "    i=0\n",
    "    for g in genes2:\n",
    "        output[:,i] = N.ge[g]['mean']['GE'];\n",
    "        i+=1\n",
    "\n",
    "    np.savetxt('/Users/Torben/Documents/richard_xyz/ei_genes_donor'+str(donor_nums[ind])+'_r'+str(rad+1)+'_coords2_zscored_gaussian_estimation.csv',output)\n",
    "    \n",
    "    print donor_nums[ind]"
   ]
  },
  {
   "cell_type": "code",
   "execution_count": null,
   "metadata": {
    "collapsed": false,
    "scrolled": true
   },
   "outputs": [],
   "source": [
    "# estimates gene expression in 10 radians\n",
    "from nsaba.nsaba import geneinfo\n",
    "\n",
    "df = pd.read_csv('/Users/Torben/Code/nsaba/csv/gene_info.csv')\n",
    "options = df['Entrez'].as_matrix()\n",
    "\n",
    "#np.random.seed(0)\n",
    "#random_inds = np.random.random_integers(len(options),size=100)\n",
    "#random_genes = [int(options[ind]) for ind in random_inds]\n",
    "\n",
    "#all genes\n",
    "random_genes = options\n",
    "\n",
    "#print random_genes\n",
    "\n",
    "rad=9\n",
    "    \n",
    "donor_nums = [9861,10021,12876,14380,15496,15697]\n",
    "dat1 = scipy.io.loadmat('/Users/Torben/Documents/richard_xyz/subj_coor.mat')\n",
    "dat2 = scipy.io.loadmat('/Users/Torben/Documents/richard_xyz/subj_coorSNAP.mat')\n",
    "#glur1,glur2,gaba1,gaba2,gaba3\n",
    "\n",
    "for ind in xrange(6):\n",
    "    path = '/Users/Torben/Documents/richard_xyz/subIndLoc.mat'\n",
    "    ns_path = \"/Users/Torben/Documents/ABI analysis/current_data_new/\"\n",
    "    aba_path = '/Users/Torben/Documents/ABI analysis/normalized_microarray_donor'+str(donor_nums[ind])+'/'\n",
    "    nsaba.Nsaba.ns_load(ns_path)\n",
    "    nsaba.Nsaba.aba_load(aba_path)\n",
    "    dat = scipy.io.loadmat(path)\n",
    "    \n",
    "    N = nsaba.Nsaba()\n",
    "    rnn_args = dict();\n",
    "    rnn_args['radius']=rad\n",
    "    rnn_args['weights']=N._gaussian_weight_function\n",
    "    '''\n",
    "    N.estimate_aba_ge(random_genes,coords=dat1['COOR'][:,0:1448].T,rnn_args=rnn_args,z_score=True)\n",
    "    output = np.zeros((1448,len(random_genes)))\n",
    "    \n",
    "    i=0\n",
    "    for g in random_genes:\n",
    "        output[:,i] = N.ge[g]['mean']['GE'];\n",
    "        i+=1\n",
    "    np.savetxt('/Users/Torben/Documents/richard_xyz/all_genes_donor'+str(donor_nums[ind])+'_r'+str(rad+1)+'_coords1_zscored_gaussian_estimation.csv',output)\n",
    "    '''\n",
    "    \n",
    "    N.estimate_aba_ge(random_genes,coords=dat2['COOR'].T,rnn_args=rnn_args,z_score=True)\n",
    "    output = np.zeros((dat1['COOR'].shape[1],len(random_genes)))    \n",
    "    i=0\n",
    "    for g in random_genes:\n",
    "        output[:,i] = N.ge[g]['mean']['GE'];\n",
    "        i+=1\n",
    "    \n",
    "    np.savetxt('/Users/Torben/Documents/richard_xyz/all_genes_donor'+str(donor_nums[ind])+'_r'+str(rad+1)+'_coords2_zscored_gaussian_estimation.csv',output)\n",
    "    \n",
    "    print donor_nums[ind]\n",
    "\n",
    "with open('all_gene_ids.csv', 'wb') as csvfile:\n",
    "    spamwriter = csv.writer(csvfile, delimiter=',')\n",
    "    gene_dat = geneinfo.get_local_gene_info('/Users/Torben/Code/nsaba/csv/',random_genes)\n",
    "    for gene in gene_dat:\n",
    "        spamwriter.writerow([gene.entrez,gene.name])"
   ]
  },
  {
   "cell_type": "code",
   "execution_count": null,
   "metadata": {
    "collapsed": false,
    "scrolled": true
   },
   "outputs": [],
   "source": []
  },
  {
   "cell_type": "code",
   "execution_count": 3,
   "metadata": {
    "collapsed": false,
    "scrolled": true
   },
   "outputs": [],
   "source": []
  },
  {
   "cell_type": "code",
   "execution_count": 12,
   "metadata": {
    "collapsed": false
   },
   "outputs": [],
   "source": []
  },
  {
   "cell_type": "code",
   "execution_count": null,
   "metadata": {
    "collapsed": false,
    "scrolled": true
   },
   "outputs": [],
   "source": []
  },
  {
   "cell_type": "code",
   "execution_count": null,
   "metadata": {
    "collapsed": false,
    "scrolled": true
   },
   "outputs": [],
   "source": []
  },
  {
   "cell_type": "code",
   "execution_count": null,
   "metadata": {
    "collapsed": false
   },
   "outputs": [],
   "source": []
  },
  {
   "cell_type": "code",
   "execution_count": null,
   "metadata": {
    "collapsed": false
   },
   "outputs": [],
   "source": []
  },
  {
   "cell_type": "code",
   "execution_count": null,
   "metadata": {
    "collapsed": false
   },
   "outputs": [],
   "source": []
  },
  {
   "cell_type": "code",
   "execution_count": null,
   "metadata": {
    "collapsed": false
   },
   "outputs": [],
   "source": [
    "\n"
   ]
  },
  {
   "cell_type": "code",
   "execution_count": 67,
   "metadata": {
    "collapsed": false
   },
   "outputs": [
    {
     "data": {
      "text/plain": [
       "(609,)"
      ]
     },
     "execution_count": 67,
     "metadata": {},
     "output_type": "execute_result"
    }
   ],
   "source": []
  },
  {
   "cell_type": "code",
   "execution_count": 39,
   "metadata": {
    "collapsed": false
   },
   "outputs": [
    {
     "name": "stdout",
     "output_type": "stream",
     "text": [
      "1.04751982181\n"
     ]
    }
   ],
   "source": []
  },
  {
   "cell_type": "code",
   "execution_count": null,
   "metadata": {
    "collapsed": false
   },
   "outputs": [],
   "source": []
  },
  {
   "cell_type": "code",
   "execution_count": null,
   "metadata": {
    "collapsed": false
   },
   "outputs": [],
   "source": []
  },
  {
   "cell_type": "code",
   "execution_count": null,
   "metadata": {
    "collapsed": false
   },
   "outputs": [],
   "source": []
  },
  {
   "cell_type": "code",
   "execution_count": null,
   "metadata": {
    "collapsed": true
   },
   "outputs": [],
   "source": []
  },
  {
   "cell_type": "code",
   "execution_count": null,
   "metadata": {
    "collapsed": true
   },
   "outputs": [],
   "source": [
    "\n"
   ]
  },
  {
   "cell_type": "code",
   "execution_count": null,
   "metadata": {
    "collapsed": true
   },
   "outputs": [],
   "source": []
  }
 ],
 "metadata": {
  "kernelspec": {
   "display_name": "Python 2",
   "language": "python",
   "name": "python2"
  },
  "language_info": {
   "codemirror_mode": {
    "name": "ipython",
    "version": 2
   },
   "file_extension": ".py",
   "mimetype": "text/x-python",
   "name": "python",
   "nbconvert_exporter": "python",
   "pygments_lexer": "ipython2",
   "version": "2.7.11"
  }
 },
 "nbformat": 4,
 "nbformat_minor": 0
}
